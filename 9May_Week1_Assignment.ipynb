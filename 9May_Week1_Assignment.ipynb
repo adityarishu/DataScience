{
 "cells": [
  {
   "cell_type": "markdown",
   "id": "cfd45b3b-426a-421c-8359-6094031f37f4",
   "metadata": {},
   "source": [
    "#### Q1. Create one variable containing following type of data:"
   ]
  },
  {
   "cell_type": "markdown",
   "id": "14c3d6b4-7d1f-49c9-b71c-003194fbf774",
   "metadata": {},
   "source": [
    "##### (i) string"
   ]
  },
  {
   "cell_type": "code",
   "execution_count": 1,
   "id": "22d1ed36-69e1-4efc-958c-e386d44cffad",
   "metadata": {},
   "outputs": [],
   "source": [
    "my_string = \"Hello World!\""
   ]
  },
  {
   "cell_type": "markdown",
   "id": "324fab8d-c5fb-4e4f-a76d-6b7d8b9a74a7",
   "metadata": {},
   "source": [
    "##### (ii) list"
   ]
  },
  {
   "cell_type": "code",
   "execution_count": 2,
   "id": "d96c9aeb-46ae-4bee-b42f-7073a8c2511c",
   "metadata": {},
   "outputs": [],
   "source": [
    "my_list = [\"Some String\", 1, 2.5, 3+9j]"
   ]
  },
  {
   "cell_type": "markdown",
   "id": "c03e496c-1fe7-413b-8527-dbd3a8ea19df",
   "metadata": {},
   "source": [
    "##### (iii) float"
   ]
  },
  {
   "cell_type": "code",
   "execution_count": 3,
   "id": "a733ce74-cc0f-4753-b355-b83900c8c268",
   "metadata": {},
   "outputs": [],
   "source": [
    "my_float = 34.98"
   ]
  },
  {
   "cell_type": "markdown",
   "id": "9a8aacea-1e85-41b8-b34e-1098985c41f6",
   "metadata": {},
   "source": [
    "##### (iv) tuple"
   ]
  },
  {
   "cell_type": "code",
   "execution_count": 4,
   "id": "1ca8e172-a6b3-460e-a240-44cb396e2a68",
   "metadata": {},
   "outputs": [],
   "source": [
    "my_tuple = (1, 4.5, \"Some String\")"
   ]
  },
  {
   "cell_type": "markdown",
   "id": "39392712-4f93-4a50-a817-897bbd7580e5",
   "metadata": {},
   "source": [
    "#### Q2. Given are some following variables containing data. What will be the data type of the above given variable:"
   ]
  },
  {
   "cell_type": "markdown",
   "id": "a71953fd-8fc0-4844-9094-bdd28c38cf3b",
   "metadata": {},
   "source": [
    "##### (i) var1 = ‘ ‘"
   ]
  },
  {
   "cell_type": "code",
   "execution_count": 20,
   "id": "75253aab-47d3-401e-a0ee-b55bf47cbf2b",
   "metadata": {},
   "outputs": [
    {
     "data": {
      "text/plain": [
       "str"
      ]
     },
     "execution_count": 20,
     "metadata": {},
     "output_type": "execute_result"
    }
   ],
   "source": [
    "var1 = ''\n",
    "type(var1) #It is of str type (String)"
   ]
  },
  {
   "cell_type": "markdown",
   "id": "33511ab0-279a-4b19-8370-a0a33b827f8c",
   "metadata": {},
   "source": [
    "##### (ii) var2 = ‘[ DS , ML , Python]’"
   ]
  },
  {
   "cell_type": "code",
   "execution_count": 10,
   "id": "b18c89c2-fbc4-43c4-8a8c-c921092b38d3",
   "metadata": {},
   "outputs": [
    {
     "data": {
      "text/plain": [
       "str"
      ]
     },
     "execution_count": 10,
     "metadata": {},
     "output_type": "execute_result"
    }
   ],
   "source": [
    "var2 = '[ DS , ML , Python]'\n",
    "type(var2) # It is also of str type."
   ]
  },
  {
   "cell_type": "markdown",
   "id": "897af75c-83b7-487d-82a9-9a246a6ce0e2",
   "metadata": {},
   "source": [
    "##### (iii)\tvar3 = [ ‘DS’ , ’ML’ , ‘Python’ ]"
   ]
  },
  {
   "cell_type": "code",
   "execution_count": 33,
   "id": "ecf93e51-93bb-4175-bbaa-bd60c9c040fe",
   "metadata": {},
   "outputs": [
    {
     "data": {
      "text/plain": [
       "list"
      ]
     },
     "execution_count": 33,
     "metadata": {},
     "output_type": "execute_result"
    }
   ],
   "source": [
    "var3 = ['DS', 'ML', 'Python']\n",
    "type(var3) # It is a list containing 3 elements of type str"
   ]
  },
  {
   "cell_type": "markdown",
   "id": "2f62b84f-93b4-4bb1-954f-c2c4b640b682",
   "metadata": {},
   "source": [
    "##### (iv)\tvar4 = 1."
   ]
  },
  {
   "cell_type": "code",
   "execution_count": 35,
   "id": "fd05c29d-4449-4170-9fde-3c7b183c3fea",
   "metadata": {},
   "outputs": [
    {
     "data": {
      "text/plain": [
       "float"
      ]
     },
     "execution_count": 35,
     "metadata": {},
     "output_type": "execute_result"
    }
   ],
   "source": [
    "var4 = 1.\n",
    "type(var4) # var4 is containing floating value. It is of type float."
   ]
  },
  {
   "cell_type": "markdown",
   "id": "279784de-5aa9-4f20-8583-95878ea276eb",
   "metadata": {},
   "source": [
    "#### Q3. Explain the use of the following operators using an example:"
   ]
  },
  {
   "cell_type": "markdown",
   "id": "e744e102-db5b-4cde-98ec-1fb5544a0154",
   "metadata": {},
   "source": [
    "##### (i) /"
   ]
  },
  {
   "cell_type": "code",
   "execution_count": 16,
   "id": "cb0c3552-075c-41da-bb33-0e718dffe0ac",
   "metadata": {},
   "outputs": [
    {
     "data": {
      "text/plain": [
       "6.666666666666667"
      ]
     },
     "execution_count": 16,
     "metadata": {},
     "output_type": "execute_result"
    }
   ],
   "source": [
    "# Division (float)\n",
    "# Performs true division. Divides first operand by the second and yields float value. \n",
    "\n",
    "20/3\n",
    "\n",
    "# Here 20 is divided by 3 and the result we get is 6.66"
   ]
  },
  {
   "cell_type": "markdown",
   "id": "83e056f9-1037-4185-a985-2d3cbc23f147",
   "metadata": {},
   "source": [
    "##### (ii) %"
   ]
  },
  {
   "cell_type": "code",
   "execution_count": 19,
   "id": "4a1a2061-a1e0-4cf0-8d12-e15d5481b8cb",
   "metadata": {},
   "outputs": [
    {
     "data": {
      "text/plain": [
       "2"
      ]
     },
     "execution_count": 19,
     "metadata": {},
     "output_type": "execute_result"
    }
   ],
   "source": [
    "# Modulus \n",
    "# yields remainder of dividing first operand by the second\n",
    "\n",
    "20%3\n",
    "\n",
    "# Here 20 is divided by 2 and remainder 2 will be returned"
   ]
  },
  {
   "cell_type": "markdown",
   "id": "1e047452-8ec1-4bd6-b804-13ec431e1d32",
   "metadata": {},
   "source": [
    "##### (iii) //"
   ]
  },
  {
   "cell_type": "code",
   "execution_count": 22,
   "id": "61f41fc8-2d6a-46d3-8969-27ad4d8ea279",
   "metadata": {},
   "outputs": [
    {
     "data": {
      "text/plain": [
       "6"
      ]
     },
     "execution_count": 22,
     "metadata": {},
     "output_type": "execute_result"
    }
   ],
   "source": [
    "# Division (floor)\n",
    "# yields quotient after discarding fractional part from the division of first operand by the second\n",
    "\n",
    "20//3\n",
    "\n",
    "# Here 20 is divided by 3 and quotient 6 will be returned"
   ]
  },
  {
   "cell_type": "markdown",
   "id": "b403778e-48dd-46a3-b8b9-62243628780b",
   "metadata": {},
   "source": [
    "##### (iv) **"
   ]
  },
  {
   "cell_type": "code",
   "execution_count": 25,
   "id": "c25eb5bd-f888-49f2-8a28-3baeaed22ec4",
   "metadata": {},
   "outputs": [
    {
     "data": {
      "text/plain": [
       "8"
      ]
     },
     "execution_count": 25,
     "metadata": {},
     "output_type": "execute_result"
    }
   ],
   "source": [
    "# Power (exponent) \n",
    "# yeilds first raised to the power second\n",
    "\n",
    "2**3\n",
    "\n",
    "# Here It will return 8. Since 2 raised to the power 3 means 2*2*2 "
   ]
  },
  {
   "cell_type": "markdown",
   "id": "37137431-42f4-4159-92db-7e694eb08405",
   "metadata": {},
   "source": [
    "#### Q4. Create a list of length 10 of your choice containing multiple types of data. Using for loop print the element and its data type."
   ]
  },
  {
   "cell_type": "code",
   "execution_count": 15,
   "id": "b773b1b0-34a1-4f3d-b702-4bc8f4509f8d",
   "metadata": {},
   "outputs": [
    {
     "name": "stdout",
     "output_type": "stream",
     "text": [
      "Data is : 'first_element'\n",
      "Data type is: <class 'str'>\n",
      "\n",
      "Data is : '2'\n",
      "Data type is: <class 'int'>\n",
      "\n",
      "Data is : '(2+9j)'\n",
      "Data type is: <class 'complex'>\n",
      "\n",
      "Data is : '['a', 'b', 'c']'\n",
      "Data type is: <class 'list'>\n",
      "\n",
      "Data is : '(1, 2, 3)'\n",
      "Data type is: <class 'tuple'>\n",
      "\n",
      "Data is : '['a', 'b', 'c']'\n",
      "Data type is: <class 'str'>\n",
      "\n",
      "Data is : 'False'\n",
      "Data type is: <class 'bool'>\n",
      "\n",
      "Data is : '(1, 2, 3)'\n",
      "Data type is: <class 'str'>\n",
      "\n",
      "Data is : '2.5'\n",
      "Data type is: <class 'float'>\n",
      "\n",
      "Data is : 'last_element'\n",
      "Data type is: <class 'str'>\n",
      "\n"
     ]
    }
   ],
   "source": [
    "my_data_list = [\"first_element\", 2, 2+9j, ['a', 'b', 'c'], (1, 2, 3), \"['a', 'b', 'c']\", False, '(1, 2, 3)', 2.5, \"last_element\"]\n",
    "\n",
    "for each_element in my_data_list:\n",
    "    print(f\"Data is : '{each_element}'\")\n",
    "    print(f\"Data type is: {type(each_element)}\\n\")"
   ]
  },
  {
   "cell_type": "markdown",
   "id": "a4ed4b18-f729-4947-8243-f35bb9b8ee7b",
   "metadata": {},
   "source": [
    "#### Q5. Using a while loop, verify if the number A is purely divisible by number B and if so then how many times it can be divisible."
   ]
  },
  {
   "cell_type": "code",
   "execution_count": 39,
   "id": "35cd06f7-3c3c-4ad3-8cfd-ac55b524fe08",
   "metadata": {},
   "outputs": [
    {
     "name": "stdin",
     "output_type": "stream",
     "text": [
      "Enter number A:  22\n",
      "Enter number B:  2\n"
     ]
    },
    {
     "name": "stdout",
     "output_type": "stream",
     "text": [
      "Number A is purely divisible by number B 1 times\n"
     ]
    }
   ],
   "source": [
    "first_number = int(input(\"Enter number A: \"))\n",
    "second_number = int(input(\"Enter number B: \"))\n",
    "\n",
    "iteration_count = 0\n",
    "while first_number%second_number==0:\n",
    "    first_number //= second_number\n",
    "    iteration_count += 1 \n",
    "else:\n",
    "    print(f\"Number A is purely divisible by number B {iteration_count} times\")"
   ]
  },
  {
   "cell_type": "markdown",
   "id": "d36ee235-f5fb-447e-bd99-3b8e9e39c0cd",
   "metadata": {},
   "source": [
    "#### Q6. Create a list containing 25 int type data. Using for loop and if-else condition print if the element is divisible by 3 or not."
   ]
  },
  {
   "cell_type": "code",
   "execution_count": 28,
   "id": "abe7f9be-5a2f-41f8-8c76-625a543a3cbe",
   "metadata": {},
   "outputs": [
    {
     "name": "stdout",
     "output_type": "stream",
     "text": [
      "12 is divisible by 3\n",
      "39 is divisible by 3\n",
      "45 is divisible by 3\n",
      "84 is divisible by 3\n",
      "87 is divisible by 3\n",
      "21 is divisible by 3\n",
      "27 is divisible by 3\n",
      "108 is divisible by 3\n"
     ]
    }
   ],
   "source": [
    "list_containing_25_int_values = [12, 67, 34, 56, 23, 79, 55, 76, 34, 23, 39, 56, 45, 84, 37, 87, 65, 47, 68, 21, 29, 27, 98, 100, 108]\n",
    "for each_element in list_containing_25_int_values:\n",
    "    if each_element % 3 == 0:\n",
    "        print(f\"{each_element} is divisible by 3\")"
   ]
  },
  {
   "cell_type": "markdown",
   "id": "3e4c9c52-ebc4-46c2-a2b6-2ec33b97d92e",
   "metadata": {},
   "source": [
    "##### Q7. What do you understand about mutable and immutable data types? Give examples for both showing this property."
   ]
  },
  {
   "cell_type": "markdown",
   "id": "9469822b-712b-40a2-aa60-0132ad695f78",
   "metadata": {},
   "source": [
    "###### As we know every obejct in python has an ID, a type and a value. I will try to explain mutable and immutable data types thorugh example.\n",
    "###### Example:"
   ]
  },
  {
   "cell_type": "code",
   "execution_count": 67,
   "id": "e89bde5b-0fc6-4ffe-a255-f43255048bef",
   "metadata": {},
   "outputs": [
    {
     "name": "stdout",
     "output_type": "stream",
     "text": [
      "Type of my_int is: <class 'int'>\n",
      "ID of my_int is: 140705045800104\n",
      "\n",
      "Subtracted 1 from my_int\n",
      "Type of my_int is: <class 'int'>\n",
      "ID of my_int is: 140705045800072\n",
      "\n",
      "--------------------------------------------------\n",
      "\n",
      "Type of my_list is: <class 'list'>\n",
      "ID of my_list is: 1479229338176\n",
      "\n",
      "Popped one element from list\n",
      "Type of my_list is: <class 'list'>\n",
      "ID of my_list is: 1479229338176\n"
     ]
    }
   ],
   "source": [
    "my_int = 13\n",
    "print(f\"Type of my_int is: {type(my_int)}\") # printing type of my_int\n",
    "print(f\"ID of my_int is: {id(my_int)}\") # printing id of my_int\n",
    "\n",
    "#now decreasing the value of my_int by 1 \n",
    "my_int -=1\n",
    "print(\"\\nSubtracted 1 from my_int\")\n",
    "print(f\"Type of my_int is: {type(my_int)}\")\n",
    "print(f\"ID of my_int is: {id(my_int)}\\n\")\n",
    "\n",
    "print(\"-\"*50)\n",
    "#creating a new object of type list\n",
    "my_list = [1, 4, 7, 10, 15]\n",
    "print(f\"\\nType of my_list is: {type(my_list)}\")\n",
    "print(f\"ID of my_list is: {id(my_list)}\")\n",
    "\n",
    "my_list.pop()\n",
    "print(\"\\nPopped one element from list\")\n",
    "print(f\"Type of my_list is: {type(my_list)}\")\n",
    "print(f\"ID of my_list is: {id(my_list)}\")"
   ]
  },
  {
   "cell_type": "markdown",
   "id": "dd00914d-1bf7-4ae0-b699-da69afbbeb21",
   "metadata": {},
   "source": [
    "###### So, objects of type int are immutable and objects of type list are mutable."
   ]
  },
  {
   "cell_type": "markdown",
   "id": "71869c69-cadb-4354-9735-3874ca7436ae",
   "metadata": {},
   "source": [
    "##### Explanation : \n",
    "In the above example we saw, changing the value there in my_int changes the ID for that obejct. \n",
    "Here the value of my_int does not chnage, as it is immutable. So, after subtracting 1 from my_int, a new obejct of type int is created with value 1 less than my_int and my_int is set to point to it. \r",
    "So basically, It don't change value of my_int from 13 to 12, just pointed my_int to a different location.\n",
    "Therefore int is immutable, we can't change value after assignment.\n",
    "###### Some other immutable data types in python are float, string, tuple etc.\n",
    "\n",
    "Similarly, now let's see my_list of list data type.\n",
    "We popped out last emenet from the my_list but the ID remains same. Because list is mutable. \n",
    "###### Some other mutable data types in python are arrays, sets, dictionaries etc. "
   ]
  }
 ],
 "metadata": {
  "kernelspec": {
   "display_name": "Python 3 (ipykernel)",
   "language": "python",
   "name": "python3"
  },
  "language_info": {
   "codemirror_mode": {
    "name": "ipython",
    "version": 3
   },
   "file_extension": ".py",
   "mimetype": "text/x-python",
   "name": "python",
   "nbconvert_exporter": "python",
   "pygments_lexer": "ipython3",
   "version": "3.11.3"
  }
 },
 "nbformat": 4,
 "nbformat_minor": 5
}
