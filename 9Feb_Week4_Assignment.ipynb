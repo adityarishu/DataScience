{
 "cells": [
  {
   "cell_type": "markdown",
   "id": "688c18ea-a7ca-4adc-b0a2-53880e3f86d6",
   "metadata": {},
   "source": [
    "##### Q1. Create a vehicle class with an init method having instance variables as name_of_vehicle, max_speed and average_of_vehicle."
   ]
  },
  {
   "cell_type": "code",
   "execution_count": 12,
   "id": "2d5f20d8-f795-4b19-999d-1dc90bc7f6e5",
   "metadata": {},
   "outputs": [],
   "source": [
    "# Creating a Vehicle class having instance variable as name_of_vehicle, max_speed and average_of_vehicles\n",
    "class Vehicle:\n",
    "\n",
    "    def __init__(self, name_of_vehicle, max_speed, average_of_vehicle):\n",
    "        self.name_of_vehicle = name_of_vehicle\n",
    "        self.max_speed = max_speed\n",
    "        self.average_of_vehicle = average_of_vehicle"
   ]
  },
  {
   "cell_type": "markdown",
   "id": "cc7254ca-bec4-476b-a954-4419b034113a",
   "metadata": {},
   "source": [
    "##### Q2.  Create a child class car from the vehicle class created in Que 1, which will inherit the vehicle class. Create a method named seating_capacity which takes capacity as an argument and returns the name of the vehicle and its seating capacity."
   ]
  },
  {
   "cell_type": "code",
   "execution_count": 14,
   "id": "71827aeb-0ba9-4d73-b9ce-8d19cf1e4d93",
   "metadata": {},
   "outputs": [
    {
     "data": {
      "text/plain": [
       "('Dezire', 4)"
      ]
     },
     "execution_count": 14,
     "metadata": {},
     "output_type": "execute_result"
    }
   ],
   "source": [
    "# Creating child class Car from the Vehicle class\n",
    "class Car(Vehicle):\n",
    "\n",
    "    def __init__(self, name_of_vehicle, max_speed, average_of_vehicle):\n",
    "        Vehicle.__init__(self, name_of_vehicle, max_speed, average_of_vehicle)\n",
    "        \n",
    "    def seating_capacity(self, capacity):\n",
    "        self.capacity = capacity\n",
    "        return self.name_of_vehicle, self.capacity\n",
    "\n",
    "\n",
    "obj_car = Car(\"Dezire\", 200, 15) # Created obj_car object from child class Car\n",
    "obj_car.seating_capacity(4) # setting seating capacity to 4"
   ]
  },
  {
   "cell_type": "markdown",
   "id": "79d28a34-52b2-419f-a3cf-0e7df7550e4a",
   "metadata": {},
   "source": [
    "##### Q3. What is multiple inheritance? Write a python code to demonstrate multiple inheritance."
   ]
  },
  {
   "cell_type": "markdown",
   "id": "304d21a9-c1dc-4c4e-b903-88be5bca4b93",
   "metadata": {},
   "source": [
    "Multiple inheritances are when a child’s class is derived from two or more parent classes. \n",
    "\n",
    "**For example** - We are inheriting some of the features from our father and some from our mother. "
   ]
  },
  {
   "cell_type": "code",
   "execution_count": 44,
   "id": "c0552aa2-9b34-4a48-9a97-d5c9bb2fe3fd",
   "metadata": {},
   "outputs": [
    {
     "name": "stdout",
     "output_type": "stream",
     "text": [
      "My House is a  Three storeyed building and I have a BMW and a One Plus phone.\n",
      "My Father is 56 years old. He is Growing towards Old age.\n",
      "My Mother works for 47 hours a week. She is Very hard working!\n"
     ]
    }
   ],
   "source": [
    "class Father: \n",
    "    house = 'Three storeyed building' \n",
    "    def age(self, number): \n",
    "        if number>70: \n",
    "            return ('Much Older!') \n",
    "        else: \n",
    "            return ('Growing towards Old age.') \n",
    "             \n",
    "class Mother: \n",
    "    car = 'BMW' \n",
    "    def work(self, hours): \n",
    "        if hours>40: \n",
    "            return ('Very hard working!') \n",
    "        else: \n",
    "            return ('Average hard working!') \n",
    " \n",
    "class Child(Father, Mother): \n",
    "    phone = 'One Plus' \n",
    "     \n",
    "child_object = Child() \n",
    "print(f'My House is a  {child_object.house} and I have a {child_object.car} and a {child_object.phone} phone.') \n",
    "print(f'My Father is 56 years old. He is {child_object.age(58)}') \n",
    "print(f'My Mother works for 47 hours a week. She is {child_object.work(47)}')"
   ]
  },
  {
   "cell_type": "markdown",
   "id": "b7ddc330-f885-4af3-9d37-42e241972b51",
   "metadata": {},
   "source": [
    "##### Q4. What are getter and setter in python? Create a class and create a getter and setter method in this class."
   ]
  },
  {
   "cell_type": "markdown",
   "id": "66f66c19-85a3-4248-b028-3aea35bb9993",
   "metadata": {},
   "source": [
    "**Getters** - These are the methods used in Object-Oriented Programming (OOPS) which helps to access the private attributes from a class. <br>\n",
    "**Setters** - These are the methods used in OOPS feature which helps to set the value to private attributes in a class."
   ]
  },
  {
   "cell_type": "code",
   "execution_count": 21,
   "id": "c08f53b1-971b-4146-8939-ec86a8d02a17",
   "metadata": {},
   "outputs": [
    {
     "name": "stdout",
     "output_type": "stream",
     "text": [
      "Getting age using Getter Method\n",
      "25\n",
      "Getting age using Getter Method\n"
     ]
    },
    {
     "data": {
      "text/plain": [
       "25"
      ]
     },
     "execution_count": 21,
     "metadata": {},
     "output_type": "execute_result"
    }
   ],
   "source": [
    "# Sample code showing the usage of property decorator to achieve setter and getter in pythonic way\n",
    "\n",
    "class Person:   \n",
    "     def __init__(self):   \n",
    "          self.__age = 0  \n",
    "         \n",
    "     # using the getter function   \n",
    "     @property  \n",
    "     def age(self):   \n",
    "         print(\"Getting age using Getter Method\")   \n",
    "         return self.__age   \n",
    "         \n",
    "     #now, using the setter function   \n",
    "     @age.setter   \n",
    "     def age(self, x):   \n",
    "         self.__age = x   \n",
    "    \n",
    "obj_person = Person()\n",
    "\n",
    "obj_person.age = 25  \n",
    "    \n",
    "print(obj_person.age)  \n",
    "obj_person.age\n"
   ]
  },
  {
   "cell_type": "markdown",
   "id": "50c8906b-9e6d-4d49-b2fd-d55a6b248d93",
   "metadata": {},
   "source": [
    "We can also create sample methods that will set value to the attribute(s) or get value of the attribute(s) without using property."
   ]
  },
  {
   "cell_type": "markdown",
   "id": "432b2575-0e20-442c-a9a3-c4185292d4e7",
   "metadata": {},
   "source": [
    "##### Q5.What is method overriding in python? Write a python code to demonstrate method overriding."
   ]
  },
  {
   "cell_type": "markdown",
   "id": "ff989f55-a212-4454-a2d1-a53a887710c9",
   "metadata": {},
   "source": [
    "Method overriding in Python is when we have two methods with the same name that each perform different tasks.\n",
    "\n",
    "Inheritance should be present in the code, method overriding cannot be performed in the same class, and overriding can only be executed when a child class is derived through inheritance.\n",
    "\n",
    "The child class should have the same name and the same number of parameters as the parent class."
   ]
  },
  {
   "cell_type": "code",
   "execution_count": 46,
   "id": "a14fc77e-5b3b-468f-a3bb-c31c467d3f07",
   "metadata": {},
   "outputs": [
    {
     "name": "stdout",
     "output_type": "stream",
     "text": [
      "The method Walk here is overridden in the code\n",
      "Hello, I am the child class\n",
      "Hello, I am the parent class\n"
     ]
    }
   ],
   "source": [
    "class Animal:\n",
    "    def Walk(self):\n",
    "        print('Hello, I am the parent class')\n",
    "\n",
    "class Dog(Animal):\n",
    "    def Walk(self):\n",
    "        print('Hello, I am the child class')\n",
    "        \n",
    "print('The method Walk here is overridden in the code')\n",
    "\n",
    "#Invoking Child class through object r\n",
    "\n",
    "r = Dog()\n",
    "r.Walk()\n",
    "\n",
    "#Invoking Parent class through object s\n",
    "\n",
    "s = Animal()\n",
    "s.Walk()"
   ]
  }
 ],
 "metadata": {
  "kernelspec": {
   "display_name": "Python 3 (ipykernel)",
   "language": "python",
   "name": "python3"
  },
  "language_info": {
   "codemirror_mode": {
    "name": "ipython",
    "version": 3
   },
   "file_extension": ".py",
   "mimetype": "text/x-python",
   "name": "python",
   "nbconvert_exporter": "python",
   "pygments_lexer": "ipython3",
   "version": "3.11.3"
  }
 },
 "nbformat": 4,
 "nbformat_minor": 5
}
