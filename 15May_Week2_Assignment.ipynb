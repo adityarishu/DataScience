{
 "cells": [
  {
   "cell_type": "markdown",
   "id": "0aaf2388-a68c-490c-a372-e6a3a207a01f",
   "metadata": {},
   "source": [
    "#### Q1. How do you comment code in Python? What are the different types of comments?"
   ]
  },
  {
   "cell_type": "markdown",
   "id": "b13be560-c140-467f-8b19-460986f0bd36",
   "metadata": {},
   "source": [
    "##### We can simply comment a line of code in python using #. Moreover, there are basically three types of comments in python :\n",
    "1. ###### Single line Comments - "
   ]
  },
  {
   "cell_type": "markdown",
   "id": "a9a0fcac-1455-4a91-9c8c-ed60eff2504b",
   "metadata": {},
   "source": [
    "Single line comment starts with the hashtag symbol (#) and lasts till the end of the line. "
   ]
  },
  {
   "cell_type": "code",
   "execution_count": 92,
   "id": "76291b12-b547-459f-b37a-cbe7886abb29",
   "metadata": {},
   "outputs": [
    {
     "name": "stdout",
     "output_type": "stream",
     "text": [
      "Aditya Shaw is pursuing Data Science\n"
     ]
    }
   ],
   "source": [
    "# Sample python program showing the use of comment\n",
    "\n",
    "my_name = \"Aditya Shaw\"\n",
    "my_course = \"Data Science\"\n",
    "\n",
    "#printing statement using multiple strings\n",
    "print(f\"{my_name} is pursuing {my_course}\")"
   ]
  },
  {
   "cell_type": "markdown",
   "id": "263c5c20-55f7-4918-ba0e-e0a8003e90e5",
   "metadata": {},
   "source": [
    "In the above example '#printing statement using multiple strings' is a single line comment. So hereafter #, anything written in this line will be ignored by the compiler."
   ]
  },
  {
   "cell_type": "markdown",
   "id": "6fd5be3d-f424-4ce5-be72-f407a70ad193",
   "metadata": {},
   "source": [
    "2. ###### Multiline Comments - \n",
    "   "
   ]
  },
  {
   "cell_type": "markdown",
   "id": "525ab198-b6ee-4962-9fc6-b60b5afb9c1c",
   "metadata": {},
   "source": [
    "Python ignores the string literals that are not assigned to a varibale. so we can use these string literals as comment. \n",
    "For Example:-"
   ]
  },
  {
   "cell_type": "code",
   "execution_count": 93,
   "id": "0eecb606-8d2d-4dab-87ef-68f64b937a55",
   "metadata": {},
   "outputs": [
    {
     "name": "stdout",
     "output_type": "stream",
     "text": [
      "Value of a =  7\n"
     ]
    }
   ],
   "source": [
    "# Sample python program showing the use of comment\n",
    "\n",
    "'This will be ignored by python'\n",
    "a = 1 + 6\n",
    "print(\"Value of a = \", a) "
   ]
  },
  {
   "cell_type": "markdown",
   "id": "08842ea1-b29d-4ab3-9625-26fb624cc265",
   "metadata": {},
   "source": [
    "as we can see above the string literal not assigned to any varibale is ignored by python and no error has been generated. "
   ]
  },
  {
   "cell_type": "markdown",
   "id": "1bcc14cd-d2d7-4dd7-8c88-8d1703762fcc",
   "metadata": {},
   "source": [
    "Since string literals not assigned to any varibale does not give any output, we can use strings with triple quotes (\"\"\") as multiline comment."
   ]
  },
  {
   "cell_type": "markdown",
   "id": "e7669dbd-4b04-4e7e-86ec-15fb233af5e9",
   "metadata": {},
   "source": [
    "Example - "
   ]
  },
  {
   "cell_type": "code",
   "execution_count": 94,
   "id": "58ce1b79-1219-4d6e-a583-224085239a70",
   "metadata": {},
   "outputs": [
    {
     "name": "stdout",
     "output_type": "stream",
     "text": [
      "Multiline Comment in python\n"
     ]
    }
   ],
   "source": [
    "# Sample python program showing the use of multiline comment\n",
    "\n",
    "\"\"\"This is\n",
    "a multiline \n",
    "comment in python and will be \n",
    "ignore by compiler\"\"\"\n",
    "print(\"Multiline Comment in python\")"
   ]
  },
  {
   "cell_type": "markdown",
   "id": "2c5966e1-dea3-413c-a29a-c4acd3184d69",
   "metadata": {},
   "source": [
    "3. ###### Docstring Comments - "
   ]
  },
  {
   "cell_type": "markdown",
   "id": "c5663e6c-772e-4009-b36b-9666366d5a60",
   "metadata": {},
   "source": [
    "Python docstrings are the string literals that appear right after the function, method, class, or module. These are basicaaly used to document our code. We can get docstring using __doc__ attribute."
   ]
  },
  {
   "cell_type": "markdown",
   "id": "b54ea7c9-432f-4d18-9865-f23004c97b74",
   "metadata": {},
   "source": [
    "Example-"
   ]
  },
  {
   "cell_type": "code",
   "execution_count": 95,
   "id": "96dbc564-8cc4-4be7-ab4b-5d460e641c6d",
   "metadata": {},
   "outputs": [
    {
     "name": "stdout",
     "output_type": "stream",
     "text": [
      "Prints the string provided in argument after swapping it's current case.\n",
      "dATA sCIENCE\n"
     ]
    }
   ],
   "source": [
    "# Sample python program showing the use of docstring comment\n",
    "\n",
    "def print_string_in_swapcase(my_string):\n",
    "    \"\"\"Prints the string provided in argument after swapping it's current case.\"\"\"\n",
    "    print(my_string.swapcase())\n",
    "\n",
    "print(print_string_in_swapcase.__doc__)\n",
    "print_string_in_swapcase(\"Data Science\")\n"
   ]
  },
  {
   "cell_type": "markdown",
   "id": "38069d26-b60a-463d-8d0f-cd3e71783d29",
   "metadata": {},
   "source": [
    "#### Q2. What are variables in Python? How do you declare and assign values to variables?"
   ]
  },
  {
   "cell_type": "markdown",
   "id": "9f6ed257-6da3-404e-80db-dfc46c3c7820",
   "metadata": {},
   "source": [
    "In python, variables are container that stores value. Python is dynamically typed language. We do not need to declare a variable before using them or declare their type. A variable is created the moment we first assign a value to it. "
   ]
  },
  {
   "cell_type": "code",
   "execution_count": 41,
   "id": "5b919e02-3d65-4a55-9b03-e5e2c90f299c",
   "metadata": {},
   "outputs": [
    {
     "name": "stdout",
     "output_type": "stream",
     "text": [
      "Hello! My name is Aditya Shaw. I am 26 years old. I spent 3200.58 for Vocational course\n",
      "my_name is of type: <class 'str'>, my_age is of type: <class 'int'> and money_spent is of type: <class 'float'>\n"
     ]
    }
   ],
   "source": [
    "my_name, my_age, money_spent = \"Aditya Shaw\", 26, 3200.58\n",
    "\n",
    "print(f\"Hello! My name is {my_name}. I am {my_age} years old. I spent {money_spent} for Vocational course\")\n",
    "print(f\"my_name is of type: {type(my_name)}, my_age is of type: {type(my_age)} and money_spent is of type: {type(money_spent)}\")"
   ]
  },
  {
   "cell_type": "markdown",
   "id": "d8e9e5d9-37f0-4c89-a4cb-3c50dc303d61",
   "metadata": {},
   "source": [
    "Here we can see that variable my_name is of string type, my_age is of integer type and money_spent is of floting type.\n",
    "We need not to declare their data types explicitly, python do it itself seeing the value assigned to the variable. "
   ]
  },
  {
   "cell_type": "markdown",
   "id": "568e4ff4-9248-477b-a8bb-5992d947d03b",
   "metadata": {},
   "source": [
    "#### Q3. How do you convert one data type to another in Python?"
   ]
  },
  {
   "cell_type": "markdown",
   "id": "6d56f668-691c-49d0-9659-d65b42a87572",
   "metadata": {},
   "source": [
    "We can convert one data type to another using type casting. Python allows to do that with the help of int(), float(), str() etc.\n",
    "\n",
    "Example:-"
   ]
  },
  {
   "cell_type": "code",
   "execution_count": 97,
   "id": "478b944a-af1a-4781-a4ff-dfd58a2dc9fe",
   "metadata": {},
   "outputs": [
    {
     "name": "stdout",
     "output_type": "stream",
     "text": [
      "My Savings for Donations - 350000.5 \n",
      "and it is of type = <class 'float'>\n",
      "--------------------------------------------------\n",
      "My Savings In Integrer for Donations - 350000 \n",
      "and it is of type = <class 'int'>\n"
     ]
    }
   ],
   "source": [
    "# Sample python program illustrating the use of type conversion in python\n",
    "\n",
    "my_savings=350000.50\n",
    "print(f\"My Savings for Donations - {my_savings} \\nand it is of type = {type(my_savings)}\")\n",
    "print(\"-\"*50)\n",
    "\n",
    "#Converting float to int using int()\n",
    "my_savings_in_integer = int(my_savings)\n",
    "print(f\"My Savings In Integrer for Donations - {my_savings_in_integer} \\nand it is of type = {type(my_savings_in_integer)}\")"
   ]
  },
  {
   "cell_type": "markdown",
   "id": "7b3d55a2-9d43-4122-98d6-19dc695b964b",
   "metadata": {},
   "source": [
    "#### Q4. How do you write and execute a Python script from the command line?"
   ]
  },
  {
   "cell_type": "markdown",
   "id": "6c27f046-786d-4b7f-8850-fdd4ee8d6889",
   "metadata": {},
   "source": [
    "Considering python is set to path (Environment Variable), simply means if running 'python' from command line opens python interpreter. \n",
    "We can easily run the executable (having execute permissions) python script from command line. Example:-\n",
    "\n",
    "python my_script.py \"arg1\" \"arg2\"\n",
    "\n",
    "Here in the above command, 'python' is the interpreter to run the python script. 'my_script.py' is the script name we want to execute and 'arg1', 'arg2' are command line arguments (optional)"
   ]
  },
  {
   "cell_type": "markdown",
   "id": "475656b4-b245-477d-83ea-31f381acaab0",
   "metadata": {},
   "source": [
    "#### Q5. Given a list my_list = [1, 2, 3, 4, 5], write the code to slice the list and obtain the sub-list [2, 3]."
   ]
  },
  {
   "cell_type": "code",
   "execution_count": 106,
   "id": "1928f302-5ada-4d56-8e8a-1b4ee77af677",
   "metadata": {},
   "outputs": [
    {
     "name": "stdout",
     "output_type": "stream",
     "text": [
      "Sublist :  [2, 3]\n"
     ]
    }
   ],
   "source": [
    "#python program to obtain sublist from a given list\n",
    "\n",
    "my_list = [1, 2, 3, 4, 5]\n",
    "sliced_list = my_list[1:3]\n",
    "print(\"Sublist : \", sliced_list)"
   ]
  },
  {
   "cell_type": "markdown",
   "id": "2adac264-e8d2-4741-8c9d-3264b6affffc",
   "metadata": {},
   "source": [
    "#### Q6. What is a complex number in mathematics, and how is it represented in Python?"
   ]
  },
  {
   "cell_type": "markdown",
   "id": "f215ef3a-bdb5-4a0e-9ae3-e59ce2735251",
   "metadata": {},
   "source": [
    "Complex numbers are helpful in finding the square root of negative numbers.\n",
    "It is the sum of a real number and an imaginary number. It is of the form a + ib and is usually represented by z. \n",
    "like. z = a+ib\n",
    "\n",
    "\n",
    "Here both a and b are real numbers. The value 'a' is called the real part 'b' is the imaginary part.  Also, ib is called an imaginary number.\n",
    "\n",
    "In Python, complex number can be created either using direct assignment statement or by using complex () function."
   ]
  },
  {
   "cell_type": "code",
   "execution_count": 107,
   "id": "cc673698-3540-4931-bc09-ce0ba3222860",
   "metadata": {},
   "outputs": [
    {
     "name": "stdout",
     "output_type": "stream",
     "text": [
      "Complex Number Is :  (5+7j)\n",
      "Type of my_complex_number : (5+7j)\n",
      "\n",
      "Complex Number Is :  (5+7j)\n",
      "Type of my_complex_number : (5+7j)\n"
     ]
    }
   ],
   "source": [
    "# Sample Program to illustrate complex number representation in python\n",
    "\n",
    "#complex number using direct assignment \n",
    "my_complex_number1 = 5 + 7j\n",
    "print(\"Complex Number Is : \", my_complex_number1)\n",
    "print(\"Type of my_complex_number :\", my_complex_number1)\n",
    "      \n",
    "#complex number using complex() function\n",
    "my_complex_number2 = complex(5, 7)\n",
    "print(\"\\nComplex Number Is : \", my_complex_number2)\n",
    "print(\"Type of my_complex_number :\", my_complex_number2)"
   ]
  },
  {
   "cell_type": "markdown",
   "id": "c780eba9-cd28-4f6d-99ff-a4f2f87894ef",
   "metadata": {},
   "source": [
    "#### Q7. What is the correct way to declare a variable named age and assign the value 25 to it?"
   ]
  },
  {
   "cell_type": "markdown",
   "id": "71de7c69-5677-498e-88a3-8b5ad861f35a",
   "metadata": {},
   "source": [
    "In python, Simply we can do that using this single line of code \n",
    "\n",
    "age = 25"
   ]
  },
  {
   "cell_type": "code",
   "execution_count": 108,
   "id": "7cc0024e-a3ac-4df5-8ae2-92c61af86c8b",
   "metadata": {},
   "outputs": [
    {
     "name": "stdout",
     "output_type": "stream",
     "text": [
      "25\n"
     ]
    }
   ],
   "source": [
    "# Samlpe program for illustrating variable use in python\n",
    "\n",
    "age = 25\n",
    "print(age)"
   ]
  },
  {
   "cell_type": "markdown",
   "id": "a1d8928f-a035-42f1-ab6a-1c9c0673dae3",
   "metadata": {},
   "source": [
    "#### Q8. Declare a variable named price and assign the value 9.99 to it. What data type does this variable belong to?"
   ]
  },
  {
   "cell_type": "code",
   "execution_count": 109,
   "id": "563528d2-1ef0-4606-bc71-dd59b1e39330",
   "metadata": {},
   "outputs": [
    {
     "name": "stdout",
     "output_type": "stream",
     "text": [
      "Type of variable 'price' is :  <class 'float'>\n"
     ]
    }
   ],
   "source": [
    "# Python program to illustrate the use of type() function\n",
    "\n",
    "price = 9.99\n",
    "print(\"Type of variable 'price' is : \", type(price))"
   ]
  },
  {
   "cell_type": "markdown",
   "id": "2d5aef5a-9cba-4187-99db-7138d8bd6cfb",
   "metadata": {},
   "source": [
    "It belongs to float data type."
   ]
  },
  {
   "cell_type": "markdown",
   "id": "c1c021c8-e6d3-4215-9f35-c3395df2b03f",
   "metadata": {},
   "source": [
    "#### Q9. Create a variable named name and assign your full name to it as a string. How would you print the value of this variable?"
   ]
  },
  {
   "cell_type": "code",
   "execution_count": 110,
   "id": "97c43328-0385-4155-a3d8-f411f47d438f",
   "metadata": {},
   "outputs": [
    {
     "name": "stdout",
     "output_type": "stream",
     "text": [
      "My Name is Aditya Shaw\n",
      "My Name is  Aditya Shaw\n",
      "My Name is Aditya Shaw\n"
     ]
    }
   ],
   "source": [
    "# Python program to print my name using different alternatives\n",
    "\n",
    "name = \"Aditya Shaw\"\n",
    "\n",
    "# printing name using different ways\n",
    "print(f\"My Name is {name}\")\n",
    "print(\"My Name is \", name)\n",
    "print(\"My Name is {}\" .format(name))"
   ]
  },
  {
   "cell_type": "markdown",
   "id": "48159fae-4772-47f5-af08-46e6951c8a35",
   "metadata": {},
   "source": [
    "In the example above, name is printed using different ways. We can use any one of them to print the value. "
   ]
  },
  {
   "cell_type": "markdown",
   "id": "7035e278-2763-4f52-932a-7ede9e1e7cd6",
   "metadata": {},
   "source": [
    "#### Q10. Given the string \"Hello, World!\", extract the substring \"World\"."
   ]
  },
  {
   "cell_type": "code",
   "execution_count": 111,
   "id": "5d993f6d-2ba3-4cc7-8f51-d593d09654b6",
   "metadata": {},
   "outputs": [
    {
     "name": "stdout",
     "output_type": "stream",
     "text": [
      "Extracted Substring : World\n"
     ]
    }
   ],
   "source": [
    "# Python program illustrating string slicing to get substring\n",
    "\n",
    "given_string = \"Hello, World!\"\n",
    "\n",
    "required_sub_string = given_string[7:-1]\n",
    "print(f\"Extracted Substring : {required_sub_string}\")"
   ]
  },
  {
   "cell_type": "markdown",
   "id": "ad512d94-bb5a-4e1d-97fd-22da01abd2d6",
   "metadata": {},
   "source": [
    "#### Q11. Create a variable named \"is_student\" and assign it a boolean value indicating whether you are currently a student or not."
   ]
  },
  {
   "cell_type": "markdown",
   "id": "6f4fc1f4-cb80-4bde-aa2c-ff9b3e5b469d",
   "metadata": {},
   "source": [
    "Considering myself as student, assigning boolean value 'True' to 'is_student'\n",
    "\n",
    "\n",
    "is_student = True"
   ]
  },
  {
   "cell_type": "code",
   "execution_count": 112,
   "id": "feb3a897-819a-488b-b8eb-92dc177ff693",
   "metadata": {},
   "outputs": [
    {
     "name": "stdout",
     "output_type": "stream",
     "text": [
      "I am a Student\n"
     ]
    }
   ],
   "source": [
    "#Sample python program using boolean value\n",
    "\n",
    "is_student = True\n",
    "\n",
    "if is_student:\n",
    "    print(\"I am a Student\")"
   ]
  }
 ],
 "metadata": {
  "kernelspec": {
   "display_name": "Python 3 (ipykernel)",
   "language": "python",
   "name": "python3"
  },
  "language_info": {
   "codemirror_mode": {
    "name": "ipython",
    "version": 3
   },
   "file_extension": ".py",
   "mimetype": "text/x-python",
   "name": "python",
   "nbconvert_exporter": "python",
   "pygments_lexer": "ipython3",
   "version": "3.11.3"
  }
 },
 "nbformat": 4,
 "nbformat_minor": 5
}
