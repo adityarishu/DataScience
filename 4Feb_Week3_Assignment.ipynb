{
 "cells": [
  {
   "cell_type": "markdown",
   "id": "57597b0d-25f9-4670-830f-d3c3100a88cd",
   "metadata": {},
   "source": [
    "#### Q1. Create a python program to sort the given list of tuples based on integer value using a lambda function. \n",
    "[('Sachin Tendulkar', 34357), ('Ricky Ponting', 27483), ('Jack Kallis', 25534), ('Virat Kohli', 24936)]"
   ]
  },
  {
   "cell_type": "code",
   "execution_count": 63,
   "id": "52ab4e69-b7d6-4766-ac0e-ffa60e7ef33a",
   "metadata": {},
   "outputs": [
    {
     "name": "stdout",
     "output_type": "stream",
     "text": [
      "Sorted list based on integrer value : \n",
      "[('Virat Kohli', 24936), ('Jack Kallis', 25534), ('Ricky Ponting', 27483), ('Sachin Tendulkar', 34357)]\n"
     ]
    }
   ],
   "source": [
    "# Python progra to sort tuples based on integer value using a lambda function \n",
    "\n",
    "given_list = [('Sachin Tendulkar', 34357), ('Ricky Ponting', 27483), ('Jack Kallis', 25534), ('Virat Kohli', 24936)]\n",
    "given_list.sort(key = lambda x : x[1])\n",
    "print(f\"Sorted list based on integrer value : \\n{given_list}\")"
   ]
  },
  {
   "cell_type": "markdown",
   "id": "25dee815-cc05-433e-a617-b41b01628ae8",
   "metadata": {},
   "source": [
    "#### Q2. Write a Python Program to find the squares of all the numbers in the given list of integers using lambda and map functions.\n",
    "[1, 2, 3, 4, 5, 6, 7, 8, 9, 10]"
   ]
  },
  {
   "cell_type": "code",
   "execution_count": 12,
   "id": "daa19a3e-2efc-48ce-94a6-f1afb9d377be",
   "metadata": {},
   "outputs": [
    {
     "name": "stdout",
     "output_type": "stream",
     "text": [
      "Square of all the elements in the given list :\n",
      "[1, 4, 9, 16, 25, 36, 49, 64, 81, 100]\n"
     ]
    }
   ],
   "source": [
    "# Python program to find square of all the numbers in the given list of intergers using lambda and map functions\n",
    "\n",
    "given_list = [1, 2, 3, 4, 5, 6, 7, 8, 9, 10]\n",
    "print(f\"Square of all the elements in the given list :\\n{list(map(lambda x: x**2, given_list))}\")"
   ]
  },
  {
   "cell_type": "markdown",
   "id": "d3d07013-d35d-4290-929f-bf0e9527d028",
   "metadata": {},
   "source": [
    "#### Q3. Write a python program to convert the given list of integers into a tuple of strings. Use map and lambda functions\n",
    "Given String: [1, 2, 3, 4, 5, 6, 7, 8, 9, 10]\n",
    "\r\n",
    "Expected output: ('1', '2', '3', '4', '5', '6', '7', '8', '9', '10')"
   ]
  },
  {
   "cell_type": "code",
   "execution_count": 21,
   "id": "95dccb60-8d91-4bf5-97ea-8c70ca67c5d0",
   "metadata": {},
   "outputs": [
    {
     "name": "stdout",
     "output_type": "stream",
     "text": [
      "Required tuple of strings : \n",
      "('1', '2', '3', '4', '5', '6', '7', '8', '9', '10')\n"
     ]
    }
   ],
   "source": [
    "# Python program to convert given list of integers into tuple of strings using map and lambda functions\n",
    "\n",
    "given_list = [1, 2, 3, 4, 5, 6, 7, 8, 9, 10]\n",
    "print(f\"Required tuple of strings : \\n{tuple(map(lambda x : str(x), given_list))}\")"
   ]
  },
  {
   "cell_type": "markdown",
   "id": "629b2cb4-e3fa-45f0-be02-c4ee622db2cb",
   "metadata": {},
   "source": [
    "#### Q4.  Write a python program using reduce function to compute the product of a list containing numbers from 1 to 25."
   ]
  },
  {
   "cell_type": "code",
   "execution_count": 49,
   "id": "84f3ec58-2d70-41b6-8449-edd65ab16387",
   "metadata": {},
   "outputs": [
    {
     "name": "stdout",
     "output_type": "stream",
     "text": [
      "Product of list containing numbers from 1 to 25: \n",
      "15511210043330985984000000\n"
     ]
    }
   ],
   "source": [
    "# Python program using reduce to compute product of a list containing numbers from 1 to 25\n",
    "\n",
    "from functools import reduce\n",
    "list_containing_1_to_25 = list(range(1, 26))\n",
    "print(f\"Product of list containing numbers from 1 to 25: \\n{reduce(lambda x, y: x*y, list_containing_1_to_25)}\")"
   ]
  },
  {
   "cell_type": "markdown",
   "id": "a8e19e75-16e5-4c17-a885-8364c1638a39",
   "metadata": {},
   "source": [
    "#### Q5. Write a python program to filter the numbers in a given list that are divisible by 2 and 3 using the filter function.\n",
    "[2, 3, 6, 9, 27, 60, 90, 120, 55, 46]"
   ]
  },
  {
   "cell_type": "code",
   "execution_count": 48,
   "id": "8da03b64-3d45-4917-ba6d-6b88572f1aec",
   "metadata": {},
   "outputs": [
    {
     "name": "stdout",
     "output_type": "stream",
     "text": [
      "List Containing numbers divisible by 2 and 3: \n",
      "[6, 60, 90, 120]\n"
     ]
    }
   ],
   "source": [
    "# Python program to filter the numbers in a given list that are divisible by 2 and 3 using filter function\n",
    "\n",
    "given_list = [2, 3, 6, 9, 27, 60, 90, 120, 55, 46]\n",
    "print(f\"List Containing numbers divisible by 2 and 3: \\n{list(filter(lambda x : x if x%2 == 0 and x%3 == 0 else None, given_list))}\")"
   ]
  },
  {
   "cell_type": "markdown",
   "id": "7a775ea0-5df0-422a-a6cc-6e33d1760bc5",
   "metadata": {},
   "source": [
    "#### Q6. Write a python program to find palindromes in the given list of strings using lambda and filter function.\n",
    "['python', 'php', 'aba', 'radar', 'level']"
   ]
  },
  {
   "cell_type": "code",
   "execution_count": 51,
   "id": "30055a6c-c90b-48a1-a20e-6aa5d46c57af",
   "metadata": {},
   "outputs": [
    {
     "name": "stdout",
     "output_type": "stream",
     "text": [
      "Palindromes in the given list of strings :\n",
      "['php', 'aba', 'radar', 'level']\n"
     ]
    }
   ],
   "source": [
    "# Python program to find palindrome in the given list of strings using lambda and filter function\n",
    "\n",
    "given_list = ['python', 'php', 'aba', 'radar', 'level']\n",
    "print(f\"Palindromes in the given list of strings :\\n{list(filter(lambda x: x if x==x[::-1] else None, given_list))}\")"
   ]
  }
 ],
 "metadata": {
  "kernelspec": {
   "display_name": "Python 3 (ipykernel)",
   "language": "python",
   "name": "python3"
  },
  "language_info": {
   "codemirror_mode": {
    "name": "ipython",
    "version": 3
   },
   "file_extension": ".py",
   "mimetype": "text/x-python",
   "name": "python",
   "nbconvert_exporter": "python",
   "pygments_lexer": "ipython3",
   "version": "3.11.3"
  }
 },
 "nbformat": 4,
 "nbformat_minor": 5
}
