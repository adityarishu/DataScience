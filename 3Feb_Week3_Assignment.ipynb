{
 "cells": [
  {
   "cell_type": "markdown",
   "id": "0c443b66-21a0-42b5-bb17-62db3a22918b",
   "metadata": {},
   "source": [
    "#### Q1. Which keyword is used to create a function? Create a function to return a list of odd numbers in the range of 1 to 25. ."
   ]
  },
  {
   "cell_type": "markdown",
   "id": "9ecd4c5a-94bf-4edc-96a5-38526a9fdf8d",
   "metadata": {},
   "source": [
    "\"def\" keyword is used to create a function."
   ]
  },
  {
   "cell_type": "code",
   "execution_count": 31,
   "id": "bca93528-ba48-4b02-9329-1317771f28e9",
   "metadata": {},
   "outputs": [
    {
     "name": "stdout",
     "output_type": "stream",
     "text": [
      "List of odd numbers in the range of 1 to 25: \n",
      "[1, 3, 5, 7, 9, 11, 13, 15, 17, 19, 21, 23, 25]\n"
     ]
    }
   ],
   "source": [
    "# Python program that will return list of odd numbers in the range of 1 to 25.\n",
    "\n",
    "def return_odd_in_the_range_of_1_to_25():\n",
    "    odd_number_list = list()\n",
    "    for i in range(1, 26):\n",
    "        if i % 2 != 0:\n",
    "            odd_number_list.append(i)\n",
    "    return odd_number_list\n",
    "\n",
    "print(\"List of odd numbers in the range of 1 to 25: \")\n",
    "print(return_odd_in_the_range_of_1_to_25())"
   ]
  },
  {
   "cell_type": "markdown",
   "id": "887b9d2a-d784-4b48-80d2-7c12a487debb",
   "metadata": {},
   "source": [
    "#### Q2. Why *args and **kwargs is used in some functions? Create a function each for *args and **kwargs to demonstrate their use."
   ]
  },
  {
   "cell_type": "markdown",
   "id": "57256982-3cc4-47a4-9bd2-2ee083123013",
   "metadata": {},
   "source": [
    "*args : *args is basically used for Non-Keyword Arguments. It is used to pass a non-keyworded, variable length argument to a function. "
   ]
  },
  {
   "cell_type": "code",
   "execution_count": 30,
   "id": "0a13780b-e5e6-4a9e-971d-a8272f124375",
   "metadata": {},
   "outputs": [
    {
     "name": "stdout",
     "output_type": "stream",
     "text": [
      "Printing sum of all the values received in *args: \n",
      "55\n",
      "30.0\n"
     ]
    }
   ],
   "source": [
    "# Python program to demonstrate the use of *args\n",
    "\n",
    "def print_sum_of_all_arguments(*args):\n",
    "    sum = 0\n",
    "    for i in args:\n",
    "        sum = sum + i\n",
    "    return sum\n",
    "\n",
    "print(\"Printing sum of all the values received in *args: \")\n",
    "print(print_sum_of_all_arguments(1, 4, 6, 12, 2, 7, 9, 3, 6, 5))\n",
    "print(print_sum_of_all_arguments(23.50, 2.50, 4))"
   ]
  },
  {
   "cell_type": "markdown",
   "id": "3b2cfd87-0860-4a56-a2e0-746fbb404836",
   "metadata": {},
   "source": [
    "**kwargs : It is used to pass a keyworded, variable-length argument list. "
   ]
  },
  {
   "cell_type": "code",
   "execution_count": 28,
   "id": "1e7025f1-e7b7-4edc-bf81-f85b64010f97",
   "metadata": {},
   "outputs": [
    {
     "name": "stdout",
     "output_type": "stream",
     "text": [
      "Printing user details using **kwargs: \n",
      "Name : Aditya Shaw\n",
      "Age : 26\n",
      "Sex : Male\n"
     ]
    }
   ],
   "source": [
    "# Python program to demonstrate the use of **kwargs\n",
    "\n",
    "def print_user_details(**kwargs):\n",
    "    for user in kwargs.keys():\n",
    "        print(f\"{user} : {kwargs[user]}\")\n",
    "\n",
    "print(\"Printing user details using **kwargs: \")\n",
    "print_user_details(Name = \"Aditya Shaw\", Age = 26, Sex = \"Male\")"
   ]
  },
  {
   "cell_type": "markdown",
   "id": "d000ebf8-3df5-45df-ab07-4cb9983afe4e",
   "metadata": {},
   "source": [
    "*args and **kwargs are just name , we can use any names of our choice like *arguments, **sum_arg are both valid notation. "
   ]
  },
  {
   "cell_type": "markdown",
   "id": "f7fd71e7-ec4c-4f48-ad70-c7e6aea0b49f",
   "metadata": {},
   "source": [
    "#### Q3.  What is an iterator in python? Name the method used to initialise the iterator object and the method used for iteration. Use these methods to print the first five elements of the given list [2, 4, 6, 8, 10, 12, 14, 16, 18, 20]."
   ]
  },
  {
   "cell_type": "markdown",
   "id": "5ae3f7c3-5a10-449c-ab71-71144d38a5d7",
   "metadata": {},
   "source": [
    "Iterator in python : An iterator in python is an object that is used to iterate over iterable objects like list, tuples, dicts and sets."
   ]
  },
  {
   "cell_type": "markdown",
   "id": "14245b0e-7b89-4004-9651-2881a653c619",
   "metadata": {},
   "source": [
    "iter() is used to initialise the iterator object and next() method is used for iteration."
   ]
  },
  {
   "cell_type": "code",
   "execution_count": 26,
   "id": "fc213275-5637-4353-a24b-5fc519a82b51",
   "metadata": {},
   "outputs": [
    {
     "name": "stdout",
     "output_type": "stream",
     "text": [
      "Printing First 5 elements using next() from the given list: \n",
      "2\n",
      "4\n",
      "6\n",
      "8\n",
      "10\n"
     ]
    }
   ],
   "source": [
    "# Python program to print elements of given list using next()\n",
    "\n",
    "given_list = [2, 4, 6, 8, 10, 12, 14, 16, 18, 20]\n",
    "\n",
    "list_iterator = iter(given_list)\n",
    "\n",
    "print(\"Printing First 5 elements using next() from the given list: \")\n",
    "for i in range(5):\n",
    "    print(next(list_iterator))"
   ]
  },
  {
   "cell_type": "markdown",
   "id": "b5b14bad-77a5-4788-8b6c-2f1c74d2fafb",
   "metadata": {},
   "source": [
    "#### Q4.  What is a generator function in python? Why yield keyword is used? Give an example of a generator function."
   ]
  },
  {
   "cell_type": "markdown",
   "id": "2fb8e926-d879-463c-aca3-53a4c3e1d81c",
   "metadata": {},
   "source": [
    "A generator-function is defined like a normal function, but whenever it needs to generate a value, it does so with the yield keyword rather than return. If the body of a def contains yield, the function automatically becomes a generator function. Generator functions return a generator object. Generator objects are used either by calling the next method on the generator object or using the generator object in a “for in” loop"
   ]
  },
  {
   "cell_type": "markdown",
   "id": "4ebc99ea-f2bf-4152-a78a-bc6a18ef2e3a",
   "metadata": {},
   "source": [
    "Using yield keyword is highly memory efficient, since the execution happens only when the caller iterates over the object.\r\n",
    "As the variables states are saved, we can pause and resume from the same point, thus saving time."
   ]
  },
  {
   "cell_type": "code",
   "execution_count": 3,
   "id": "d71b182c-3899-4d60-9dab-dd21c6b0a80a",
   "metadata": {},
   "outputs": [
    {
     "name": "stdout",
     "output_type": "stream",
     "text": [
      "1\n",
      "2\n",
      "3\n",
      "4\n",
      "5\n",
      "6\n",
      "7\n",
      "8\n",
      "9\n",
      "10\n"
     ]
    }
   ],
   "source": [
    "# Python generator function example\n",
    "\n",
    "def print_numbers(numbers):\n",
    "    num = 0\n",
    "    for i in range(numbers):\n",
    "        num+=1\n",
    "        yield num\n",
    "\n",
    "for i in print_numbers(10):\n",
    "    print(i)"
   ]
  },
  {
   "cell_type": "markdown",
   "id": "3f967264-135f-4a0e-aaa1-8742e926f9f9",
   "metadata": {},
   "source": [
    "#### Q5. Create a generator function for prime numbers less than 1000. Use the next() method to print the first 20 prime numbers.."
   ]
  },
  {
   "cell_type": "code",
   "execution_count": 25,
   "id": "c80e22a3-54f4-4a8a-b7ca-dfc20068e632",
   "metadata": {},
   "outputs": [
    {
     "name": "stdout",
     "output_type": "stream",
     "text": [
      "Printing First 20 Prime Numbers Using Next(): \n",
      "2\n",
      "3\n",
      "5\n",
      "7\n",
      "11\n",
      "13\n",
      "17\n",
      "19\n",
      "23\n",
      "29\n",
      "31\n",
      "37\n",
      "41\n",
      "43\n",
      "47\n",
      "53\n",
      "59\n",
      "61\n",
      "67\n",
      "71\n"
     ]
    }
   ],
   "source": [
    "# Python program for prime numbers using generator function\n",
    "\n",
    "def prime_numbers(num):\n",
    "    for number in range(2, num):\n",
    "        divided = False\n",
    "        for i in range(2, number):\n",
    "            if number%i == 0:\n",
    "                divided = True\n",
    "        if divided == False:\n",
    "            yield number\n",
    "\n",
    "prime_numbers_in_range = prime_numbers(999)\n",
    "\n",
    "#printing first 20 prime numbers using next()\n",
    "print(\"Printing First 20 Prime Numbers Using Next(): \")\n",
    "for i in range(20):\n",
    "    print(next(prime_numbers_in_range))\n",
    "            "
   ]
  }
 ],
 "metadata": {
  "kernelspec": {
   "display_name": "Python 3 (ipykernel)",
   "language": "python",
   "name": "python3"
  },
  "language_info": {
   "codemirror_mode": {
    "name": "ipython",
    "version": 3
   },
   "file_extension": ".py",
   "mimetype": "text/x-python",
   "name": "python",
   "nbconvert_exporter": "python",
   "pygments_lexer": "ipython3",
   "version": "3.11.3"
  }
 },
 "nbformat": 4,
 "nbformat_minor": 5
}
