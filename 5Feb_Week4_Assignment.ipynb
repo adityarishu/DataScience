{
 "cells": [
  {
   "cell_type": "markdown",
   "id": "9febeb8a-b363-4092-b171-a1be89b67632",
   "metadata": {},
   "source": [
    "#### Q1. Explain Class and Object with respect to Object-Oriented Programming. Give a suitable example."
   ]
  },
  {
   "cell_type": "markdown",
   "id": "2a6d31d7-5629-4e28-96b5-c6c2226e1b2b",
   "metadata": {},
   "source": [
    "**Class** - Classes are user-defined data types that act as the blueprint for individual objects. It's generic. <br>\n",
    "\n",
    "**Objects** - Objects are instances of a class created with specifically defined data. It's specific. <br>\n",
    "\n",
    "**For Example** - <br>\n",
    "Sparrow is a specific instance of a class Bird. <br>\n",
    "Rose is a specific instance of a class Flower.\n",
    "\n"
   ]
  },
  {
   "cell_type": "code",
   "execution_count": 11,
   "id": "370b169e-74d1-4bcf-94bf-e5c4d579d335",
   "metadata": {},
   "outputs": [
    {
     "name": "stdout",
     "output_type": "stream",
     "text": [
      "Name: Aditya\n",
      "Age: 27\n",
      "Name: Hrisav\n",
      "Age: 25\n"
     ]
    }
   ],
   "source": [
    "# Example illustrating basic python class and object of that class\n",
    "\n",
    "class Person:\n",
    "\n",
    "    def __init__(self, name, age):\n",
    "        self.name = name\n",
    "        self.age = age\n",
    "\n",
    "    def get_data(self):\n",
    "        print(f\"Name: {self.name}\")\n",
    "        print(f\"Age: {self.age}\")\n",
    "\n",
    "\n",
    "person1 = Person(\"Aditya\", \"27\") # creating an object person1 of Person class\n",
    "person2 = Person(\"Hrisav\", \"25\") # creating second object person2 of the same Person class\n",
    "\n",
    "person1.get_data()\n",
    "person2.get_data()"
   ]
  },
  {
   "cell_type": "markdown",
   "id": "55582311-6b88-4d73-baee-6389970f756e",
   "metadata": {},
   "source": [
    "#### Q2. Name the four pillars of OOPs."
   ]
  },
  {
   "cell_type": "markdown",
   "id": "2702e14c-1cdb-4bc4-8a8d-fd6a7d902039",
   "metadata": {},
   "source": [
    "Four pillars of OOPs - \n",
    "\n",
    "1. Abstraction\n",
    "2. Encapsulation\n",
    "3. Inheritance\n",
    "5. Polymorphism"
   ]
  },
  {
   "cell_type": "markdown",
   "id": "34a68dfd-1ac9-4d3e-9deb-c9cd4de66e43",
   "metadata": {},
   "source": [
    "#### Q3. Explain why the __init__() function is used. Give a suitable example."
   ]
  },
  {
   "cell_type": "markdown",
   "id": "f7044e84-860a-48f8-8c20-64a3dd6e5038",
   "metadata": {},
   "source": [
    "In Python, \\__init__ is a special method known as the constructor. It is automatically called when a new instance (object) of a class is created. The \\__init__ method allows us to initialize the attributes of an object."
   ]
  },
  {
   "cell_type": "code",
   "execution_count": 21,
   "id": "1043befd-bba7-44ac-ac99-236640cc5b3c",
   "metadata": {},
   "outputs": [
    {
     "name": "stdout",
     "output_type": "stream",
     "text": [
      "Aditya\n",
      "27\n",
      "Certification\n",
      "A-1\n"
     ]
    }
   ],
   "source": [
    "# Sample python program showing the use of __init__\n",
    "\n",
    "class Student:\n",
    "\n",
    "    def __init__(self, name, age, class_, roll_no): \n",
    "        self.name = name\n",
    "        self.age = age\n",
    "        self.class_ = class_\n",
    "        self.roll_no = roll_no\n",
    "\n",
    "student1 = Student(\"Aditya\", \"27\", \"Certification\", \"A-1\") # here while creating the object of the class Student, \n",
    "                                                           # attributes for student1 is provided and has been initialized by __init__\n",
    "\n",
    "print(student1.name)\n",
    "print(student1.age)\n",
    "print(student1.class_)\n",
    "print(student1.roll_no)\n",
    "    "
   ]
  },
  {
   "cell_type": "markdown",
   "id": "2382a07a-90ae-4960-b8cb-35422d9dbd6c",
   "metadata": {},
   "source": [
    "#### Q4. Why self is used in OOPs?"
   ]
  },
  {
   "cell_type": "markdown",
   "id": "c8f144a9-7a69-4a15-a0f3-bba928c54aa8",
   "metadata": {},
   "source": [
    "Whenever we call an instance method using an object, address of the object gets passed to the method implicitly. This address is collected by the instance method in a variable called **self**. \n",
    "\n",
    "Using address of the object present in self we indicate which object's instance data we wish to work with. \n",
    "\n",
    "In place of self any other variable name can be used."
   ]
  },
  {
   "cell_type": "markdown",
   "id": "3018de1f-a6d6-44b7-b427-1a5cf92c596b",
   "metadata": {},
   "source": [
    "#### Q5. What is inheritance? Give an example for each type of inheritance."
   ]
  },
  {
   "cell_type": "markdown",
   "id": "4073a699-4b5c-4a17-9755-d9eeccc3a2c7",
   "metadata": {},
   "source": [
    "Inheritance is a core principle of object oriented programming (OOP) that allow us to derive a class or a hierarchy of classes that share a set of attributes and methods. It is a relationship between a superclass (a generalized class) and a subclass (a specialized class), where subclass inherits data and behavior from superclass."
   ]
  },
  {
   "cell_type": "markdown",
   "id": "abd21632-8b6a-4981-813c-20fb5477a1a9",
   "metadata": {},
   "source": [
    "There are **five** types of inheritance available in python\n",
    "\n",
    "**1. Single Inheritance** - Single inheritance allows a derivate class to inherit properties of one parent class, and this allows code reuse and the introduction of additional features in existing code."
   ]
  },
  {
   "cell_type": "code",
   "execution_count": 23,
   "id": "2a634d78-7241-4dc9-9c83-cdd03690c9aa",
   "metadata": {},
   "outputs": [
    {
     "name": "stdout",
     "output_type": "stream",
     "text": [
      "This function is defined inside the parent class.\n",
      "This function is defined inside the child class.\n"
     ]
    }
   ],
   "source": [
    "# Python program for demonstrating single inheritance  \n",
    "  \n",
    "# Here, we will create the base class or the Parent class  \n",
    "class Parent:  \n",
    "    def func_1(self):  \n",
    "        print (\"This function is defined inside the parent class.\")  \n",
    "  \n",
    "# now, we will create the Derived class  \n",
    "class Child(Parent):  \n",
    "    def func_2(self):  \n",
    "        print (\"This function is defined inside the child class.\")  \n",
    "  \n",
    "# Driver's code  \n",
    "obj_child = Child()  \n",
    "obj_child.func_1()  \n",
    "obj_child.func_2()  "
   ]
  },
  {
   "cell_type": "markdown",
   "id": "986831bb-ac89-45ad-bc1b-f88d93b7e52b",
   "metadata": {},
   "source": [
    "**2. Multiple Inheritance** - If a class is able to be created from multiple base classes, this kind of Inheritance is known as multiple Inheritance. When there is multiple Inheritance, each of the attributes that are present in the classes of the base has been passed on to the class that is derived from it."
   ]
  },
  {
   "cell_type": "code",
   "execution_count": 35,
   "id": "b636649b-0d77-4622-9bd3-2d3fae5e70c5",
   "metadata": {},
   "outputs": [
    {
     "name": "stdout",
     "output_type": "stream",
     "text": [
      "Father name is : Rajesh\n",
      "Mother name is : Shreya\n"
     ]
    }
   ],
   "source": [
    "#Python program for demonstrating multiple inheritance  \n",
    "  \n",
    "  \n",
    "# Here, we will create the Base class 1  \n",
    "class Mother:  \n",
    "    mothername= \"\"  \n",
    "    def mother(self):  \n",
    "        print(self.mothername)  \n",
    "  \n",
    "# Here, we will create the Base class 2  \n",
    "class Father:  \n",
    "    fathername = \"\"  \n",
    "    def father(self):  \n",
    "        print(self.fathername)  \n",
    "  \n",
    "# now, we will create the Derived class  \n",
    "class Son(Mother, Father):  \n",
    "    def parents(self):  \n",
    "        print (\"Father name is :\", self.fathername)  \n",
    "        print (\"Mother name is :\", self.mothername)  \n",
    "  \n",
    "# Driver's code  \n",
    "son1 = Son()  \n",
    "son1.fathername = \"Rajesh\"  \n",
    "son1.mothername = \"Shreya\"  \n",
    "son1.parents()  "
   ]
  },
  {
   "cell_type": "markdown",
   "id": "9035cf8e-53e3-4c0a-83de-73595fb6dcec",
   "metadata": {},
   "source": [
    "**3. Multilevel inheritance** - The features that are part of the original class, as well as the class that is derived from it, are passed on to the new class. It is similar to a relationship involving grandparents and children."
   ]
  },
  {
   "cell_type": "code",
   "execution_count": 45,
   "id": "d0c9fb66-cafa-418f-9d48-2fdef7ac22b3",
   "metadata": {},
   "outputs": [
    {
     "name": "stdout",
     "output_type": "stream",
     "text": [
      "grand_father_abc\n",
      "Grandfather name is : grand_father_abc\n",
      "Father name is : father_abc\n",
      "Son name is : son_abc\n"
     ]
    }
   ],
   "source": [
    "# Python program for demonstrating multilevel inheritance  \n",
    "  \n",
    "# Here, we will create the Base class   \n",
    "class GrandFather:  \n",
    "  \n",
    "    def __init__(self, grand_father_name):  \n",
    "        self.grand_father_name = grand_father_name \n",
    "  \n",
    "# here, we will create the Intermediate class  \n",
    "class Father(GrandFather):  \n",
    "    def __init__(self, father_name, grand_father_name):  \n",
    "        self.father_name = father_name  \n",
    "  \n",
    "        # here, we will invoke the constructor of Grandfather class  \n",
    "        GrandFather.__init__(self, grand_father_name)  \n",
    "  \n",
    "# here, we will create the Derived class  \n",
    "class Son(Father):  \n",
    "    def __init__(self, son_name, father_name, grand_father_name):  \n",
    "        self.son_name = son_name  \n",
    "  \n",
    "        # here, we will invoke the constructor of Father class  \n",
    "        Father.__init__(self, father_name, grand_father_name)  \n",
    "  \n",
    "    def print_name(self):  \n",
    "        print('Grandfather name is :', self.grand_father_name)  \n",
    "        print(\"Father name is :\", self.father_name)  \n",
    "        print(\"Son name is :\", self.son_name)  \n",
    "  \n",
    "# Driver code  \n",
    "s1 = Son('son_abc', 'father_abc', 'grand_father_abc')  \n",
    "print (s1.grand_father_name)  \n",
    "s1.print_name()  "
   ]
  },
  {
   "cell_type": "markdown",
   "id": "9d4b55fb-82ba-48bc-bf73-ee5d5e6845b6",
   "metadata": {},
   "source": [
    "**4. Hierarchical Inheritance** - If multiple derived classes are created from the same base, this kind of Inheritance is known as hierarchical inheritance. In this instance, we have two base classes as a parent (base) class as well as two children (derived) classes."
   ]
  },
  {
   "cell_type": "code",
   "execution_count": 46,
   "id": "8c729e20-5c1e-4f03-8869-1e784d9cfe85",
   "metadata": {},
   "outputs": [
    {
     "name": "stdout",
     "output_type": "stream",
     "text": [
      "This function is defined inside the parent class.\n",
      "This function is defined inside the child 1.\n",
      "This function is defined inside the parent class.\n",
      "This function is defined inside the child 2.\n"
     ]
    }
   ],
   "source": [
    "# Python program for demonstrating Hierarchical inheritance  \n",
    "  \n",
    "# Here, we will create the Base class   \n",
    "class Parent:  \n",
    "    def func_1(self):  \n",
    "        print (\"This function is defined inside the parent class.\")  \n",
    "  \n",
    "# Derived class1  \n",
    "class Child_1(Parent):  \n",
    "    def func_2(self):  \n",
    "        print (\"This function is defined inside the child 1.\")  \n",
    "  \n",
    "# Derivied class2  \n",
    "class Child_2(Parent):  \n",
    "    def func_3(self):  \n",
    "        print (\"This function is defined inside the child 2.\")  \n",
    "  \n",
    "# Driver's code  \n",
    "object1 = Child_1()  \n",
    "object2 = Child_2()  \n",
    "object1.func_1()  \n",
    "object1.func_2()  \n",
    "object2.func_1()  \n",
    "object2.func_3()  "
   ]
  },
  {
   "cell_type": "markdown",
   "id": "15b57ddc-5e9c-4594-955e-6d130f4da649",
   "metadata": {},
   "source": [
    "**5. Hybrid Inheritance** - Inheritance consisting of multiple types of inheritance is called hybrid inheritance."
   ]
  },
  {
   "cell_type": "code",
   "execution_count": 33,
   "id": "f2210167-8a36-46b6-b92d-d6219240037f",
   "metadata": {},
   "outputs": [
    {
     "name": "stdout",
     "output_type": "stream",
     "text": [
      "This function is in school.\n",
      "This function is in student 1. \n"
     ]
    }
   ],
   "source": [
    "# Python program to demonstrate\n",
    "# hybrid inheritance\n",
    " \n",
    " \n",
    "class School:\n",
    "    def func1(self):\n",
    "        print(\"This function is in school.\")\n",
    " \n",
    " \n",
    "class Student1(School):\n",
    "    def func2(self):\n",
    "        print(\"This function is in student 1. \")\n",
    " \n",
    " \n",
    "class Student2(School):\n",
    "    def func3(self):\n",
    "        print(\"This function is in student 2.\")\n",
    " \n",
    " \n",
    "class Student3(Student1, School):\n",
    "    def func4(self):\n",
    "        print(\"This function is in student 3.\")\n",
    " \n",
    " \n",
    "# Driver's code\n",
    "object = Student3()\n",
    "object.func1()\n",
    "object.func2()"
   ]
  }
 ],
 "metadata": {
  "kernelspec": {
   "display_name": "Python 3 (ipykernel)",
   "language": "python",
   "name": "python3"
  },
  "language_info": {
   "codemirror_mode": {
    "name": "ipython",
    "version": 3
   },
   "file_extension": ".py",
   "mimetype": "text/x-python",
   "name": "python",
   "nbconvert_exporter": "python",
   "pygments_lexer": "ipython3",
   "version": "3.11.3"
  }
 },
 "nbformat": 4,
 "nbformat_minor": 5
}
